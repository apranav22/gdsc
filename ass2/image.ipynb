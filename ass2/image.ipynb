{
 "cells": [
  {
   "cell_type": "code",
   "execution_count": 66,
   "metadata": {},
   "outputs": [
    {
     "name": "stdout",
     "output_type": "stream",
     "text": [
      "Using cpu\n"
     ]
    }
   ],
   "source": [
    "import numpy as np\n",
    "import torch\n",
    "import torch.nn as nn\n",
    "import pickle\n",
    "from torch.utils.data import DataLoader, TensorDataset\n",
    "\n",
    "device = (\n",
    "    \"cuda\"\n",
    "    if torch.cuda.is_available()\n",
    "    else \"cpu\"\n",
    ")\n",
    " "
   ]
  },
  {
   "cell_type": "code",
   "execution_count": 69,
   "metadata": {},
   "outputs": [],
   "source": [
    "def unpickle(file):\n",
    "    with open(file, 'rb') as fo:\n",
    "        dict = pickle.load(fo, encoding='bytes')\n",
    "    return dict\n",
    "\n",
    "class Classifier(nn.Module):\n",
    "    def __init__(self):\n",
    "        super(Classifier, self).__init__()\n",
    "        self.stack = nn.Sequential(\n",
    "            nn.Linear(32*32*3, 32*32),\n",
    "            nn.ReLU(),\n",
    "            nn.Linear(32*32, 32*32),\n",
    "            nn.ReLU(),\n",
    "            nn.Linear(32*32, 10)\n",
    "        )\n",
    "    def forward(self, x):\n",
    "        logits = self.stack(x)\n",
    "        return logits"
   ]
  },
  {
   "cell_type": "code",
   "execution_count": 79,
   "metadata": {},
   "outputs": [
    {
     "name": "stdout",
     "output_type": "stream",
     "text": [
      "torch.Size([50000, 3072])\n"
     ]
    }
   ],
   "source": [
    "classes = unpickle('./cifar/batches.meta')[b'label_names']\n",
    "labels = []\n",
    "data = []\n",
    "test_labels = []\n",
    "test_data = []\n",
    "for i in range(1, 6):\n",
    "    path = \"./cifar/data_batch_\" + str(i)\n",
    "    labels += (unpickle(path)[b'labels'])\n",
    "    for j in unpickle(path)[b'data']:\n",
    "        data.append(j)\n",
    "test_labels += unpickle(\"./cifar/test_batch\")[b'labels']\n",
    "for i in unpickle(\"./cifar/test_batch\")[b'data']:\n",
    "    test_data.append(i)\n",
    "tensor_X = torch.Tensor(data)\n",
    "tensor_y = torch.Tensor(labels)"
   ]
  },
  {
   "cell_type": "code",
   "execution_count": 81,
   "metadata": {},
   "outputs": [
    {
     "name": "stdout",
     "output_type": "stream",
     "text": [
      "Classifier(\n",
      "  (stack): Sequential(\n",
      "    (0): Linear(in_features=3072, out_features=1024, bias=True)\n",
      "    (1): ReLU()\n",
      "    (2): Linear(in_features=1024, out_features=1024, bias=True)\n",
      "    (3): ReLU()\n",
      "    (4): Linear(in_features=1024, out_features=10, bias=True)\n",
      "  )\n",
      ")\n"
     ]
    }
   ],
   "source": [
    "train_dataset = TensorDataset(tensor_X, tensor_y)\n",
    "train_loader = DataLoader(train_dataset, batch_size=32)\n",
    "#having initialised dataset and dataloader\n",
    "\n",
    "#initialise model, loss fn., optimiser\n",
    "model = Classifier()\n",
    "loss = nn.CrossEntropyLoss()\n",
    "optimiser = torch.optim.Adam(model.parameters())\n",
    "print(model)"
   ]
  }
 ],
 "metadata": {
  "kernelspec": {
   "display_name": "active-learn",
   "language": "python",
   "name": "python3"
  },
  "language_info": {
   "codemirror_mode": {
    "name": "ipython",
    "version": 3
   },
   "file_extension": ".py",
   "mimetype": "text/x-python",
   "name": "python",
   "nbconvert_exporter": "python",
   "pygments_lexer": "ipython3",
   "version": "3.10.0"
  }
 },
 "nbformat": 4,
 "nbformat_minor": 2
}
